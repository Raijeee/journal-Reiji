{
  "nbformat": 4,
  "nbformat_minor": 0,
  "metadata": {
    "colab": {
      "name": "Untitled1.ipynb",
      "provenance": [],
      "authorship_tag": "ABX9TyMY4ji6knrAgZ+mySeN0A49",
      "include_colab_link": true
    },
    "kernelspec": {
      "name": "python3",
      "display_name": "Python 3"
    },
    "language_info": {
      "name": "python"
    }
  },
  "cells": [
    {
      "cell_type": "markdown",
      "metadata": {
        "id": "view-in-github",
        "colab_type": "text"
      },
      "source": [
        "<a href=\"https://colab.research.google.com/github/Raijeee/journal-Reiji/blob/main/programming_task_2.ipynb\" target=\"_parent\"><img src=\"https://colab.research.google.com/assets/colab-badge.svg\" alt=\"Open In Colab\"/></a>"
      ]
    },
    {
      "cell_type": "code",
      "metadata": {
        "colab": {
          "base_uri": "https://localhost:8080/"
        },
        "id": "47Dj1E4DMcn4",
        "outputId": "9b23efa5-8f82-406e-d6ba-d1fad6574905"
      },
      "source": [
        "a = input(\"What is your number? > \")\n",
        "counter = 0\n",
        "while int(a) > 9:\n",
        "  b = int(int(a)/10)\n",
        "  c = int(b) - (b*10)\n",
        "  a = b*c\n",
        "  counter +=1\n",
        "\n",
        "print(counter)"
      ],
      "execution_count": 7,
      "outputs": [
        {
          "output_type": "stream",
          "name": "stdout",
          "text": [
            "What is your number? > 51\n",
            "1\n"
          ]
        }
      ]
    }
  ]
}