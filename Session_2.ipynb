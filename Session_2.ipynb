{
  "nbformat": 4,
  "nbformat_minor": 0,
  "metadata": {
    "colab": {
      "name": "Session 2",
      "provenance": [],
      "authorship_tag": "ABX9TyO/hq3oo/Wc5maV06eJkIZk",
      "include_colab_link": true
    },
    "kernelspec": {
      "name": "python3",
      "display_name": "Python 3"
    },
    "language_info": {
      "name": "python"
    }
  },
  "cells": [
    {
      "cell_type": "markdown",
      "metadata": {
        "id": "view-in-github",
        "colab_type": "text"
      },
      "source": [
        "<a href=\"https://colab.research.google.com/github/Raijeee/journal-Reiji/blob/Grade-11/Session_2.ipynb\" target=\"_parent\"><img src=\"https://colab.research.google.com/assets/colab-badge.svg\" alt=\"Open In Colab\"/></a>"
      ]
    },
    {
      "cell_type": "markdown",
      "metadata": {
        "id": "UO8ucx8W9hCW"
      },
      "source": [
        "**Write a program that converts Miles to Kilometers**\n",
        "$$miles = 1.609*Kilometers$$"
      ]
    },
    {
      "cell_type": "code",
      "metadata": {
        "colab": {
          "base_uri": "https://localhost:8080/"
        },
        "id": "ndJGrH8g87hJ",
        "outputId": "78f477b8-65fa-4627-f8a9-89961be82483"
      },
      "source": [
        "#Get the user input as variables\n",
        "miles = int(input(\"How many miles? > \"))\n",
        "\n",
        "#Convert miles to kilometers using math\n",
        "kilometers = 1.609*miles\n",
        "\n",
        "#Print the results\n",
        "print (f\"{miles} miles would be {kilometers} Kilometers.\")"
      ],
      "execution_count": null,
      "outputs": [
        {
          "output_type": "stream",
          "text": [
            "How many miles? > 4\n",
            "4 miles would be 6.436 Kilometers.\n"
          ],
          "name": "stdout"
        }
      ]
    },
    {
      "cell_type": "markdown",
      "metadata": {
        "id": "Gc30cbYaDUcf"
      },
      "source": [
        "**Solve a quadratic Equation**\n",
        "$$-b√b^2^4ac/2a$$"
      ]
    },
    {
      "cell_type": "code",
      "metadata": {
        "colab": {
          "base_uri": "https://localhost:8080/"
        },
        "id": "I_ttNX36-74E",
        "outputId": "b5f13b4f-44f9-4d1e-82a8-95d649f02237"
      },
      "source": [
        "#Import the Cmath process \n",
        "import cmath\n",
        "\n",
        "#Determine each a, b, c value with input\n",
        "a=int(input(\"What is your a? > \"))\n",
        "b=int(input(\"What is your b? > \"))\n",
        "c=int(input(\"What is your c? > \"))\n",
        "\n",
        "#Simplify by making b^2-4ac\n",
        "d = (b**2) - (4*a*c)\n",
        "\n",
        "#Determine the 2 values (y, z) with cmath\n",
        "y = (-b-cmath.sqrt(d))/(2*a)\n",
        "z = (-b+cmath.sqrt(d))/(2*a)\n",
        "\n",
        "#Print the solution,(x)j being the remainder\n",
        "print(f\"The solutions are {y} and {z}\")"
      ],
      "execution_count": 3,
      "outputs": [
        {
          "output_type": "stream",
          "text": [
            "What is your a? > 6\n",
            "What is your b? > 17\n",
            "What is your c? > 12\n",
            "The solutions are (-1.5+0j) and (-1.3333333333333333+0j)\n"
          ],
          "name": "stdout"
        }
      ]
    },
    {
      "cell_type": "markdown",
      "metadata": {
        "id": "Uk6pto55Bkp9"
      },
      "source": [
        "**Write a program that asks the user their name and age and print it**"
      ]
    },
    {
      "cell_type": "code",
      "metadata": {
        "colab": {
          "base_uri": "https://localhost:8080/"
        },
        "id": "5flCI_1zBpFC",
        "outputId": "518bb975-4f46-46ca-8f1f-778d5998d7a4"
      },
      "source": [
        "#Determine the users name with input\n",
        "name = input(\"What is your name? > \")\n",
        "\n",
        "#Determine the users age with input\n",
        "age = input (\"What is your age (interger only)? > \")\n",
        "\n",
        "#Determine the user nationality with input\n",
        "country = input (\"Which country do you come from? > \")\n",
        "\n",
        "#Print all results using f strings\n",
        "print (f\"Welcome {name} you are {age} years old and you come from {country}!\")"
      ],
      "execution_count": 2,
      "outputs": [
        {
          "output_type": "stream",
          "text": [
            "What is your name? > Reiji Nishikawa\n",
            "What is your age (interger only)? > 16\n",
            "Which country do you come from? > Singapore\n",
            "Welcome Reiji Nishikawa you are 16 years old and you come from Singapore!\n"
          ],
          "name": "stdout"
        }
      ]
    },
    {
      "cell_type": "markdown",
      "metadata": {
        "id": "Yh4Al0phDNSc"
      },
      "source": [
        "**Create one more program that converts between different units**\n",
        "//(Centimeters to Inches)"
      ]
    },
    {
      "cell_type": "code",
      "metadata": {
        "colab": {
          "base_uri": "https://localhost:8080/"
        },
        "id": "baGEu4gGDOQb",
        "outputId": "ee7f5547-946d-40ef-a38a-33b111f25f24"
      },
      "source": [
        "#Determine the users centimeter input\n",
        "centimeter = int(input(\"What is your value in Centimeters? > \"))\n",
        "\n",
        "#Convert centimeters to inches by dividing by 2.54\n",
        "inches = centimeter/2.54\n",
        "\n",
        "#Print results using f strings\n",
        "print (f\"Your value in inches would be {inches} inches\")"
      ],
      "execution_count": 8,
      "outputs": [
        {
          "output_type": "stream",
          "text": [
            "What is your value in Centimeters? > 5\n",
            "Your value in inches would be 1.968503937007874 inches\n"
          ],
          "name": "stdout"
        }
      ]
    }
  ]
}