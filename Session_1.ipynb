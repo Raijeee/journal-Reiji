{
  "nbformat": 4,
  "nbformat_minor": 0,
  "metadata": {
    "colab": {
      "name": "Session #1",
      "provenance": [],
      "authorship_tag": "ABX9TyOSlkpG1LKXbXeCjK0crYUA",
      "include_colab_link": true
    },
    "kernelspec": {
      "name": "python3",
      "display_name": "Python 3"
    },
    "language_info": {
      "name": "python"
    }
  },
  "cells": [
    {
      "cell_type": "markdown",
      "metadata": {
        "id": "view-in-github",
        "colab_type": "text"
      },
      "source": [
        "<a href=\"https://colab.research.google.com/github/Raijeee/journal-Reiji/blob/main/Session_1.ipynb\" target=\"_parent\"><img src=\"https://colab.research.google.com/assets/colab-badge.svg\" alt=\"Open In Colab\"/></a>"
      ]
    },
    {
      "cell_type": "markdown",
      "metadata": {
        "id": "Xg8u7l-VsgMX"
      },
      "source": [
        "#Programming exercises\n",
        "\n",
        "Write a program that calcualtes the sum of all the numbers from 0 to 2021\n",
        "\n",
        "**Utlize the arithimic sequence:**\n",
        "$$ sum = 1/2*n(1+n) $$"
      ]
    },
    {
      "cell_type": "code",
      "metadata": {
        "colab": {
          "base_uri": "https://localhost:8080/"
        },
        "id": "HWaRg51dsPeK",
        "outputId": "13c96e08-59a7-461a-88fd-8057453c9138"
      },
      "source": [
        "start=0\n",
        "end=2021\n",
        "\n",
        "n= end - start\n",
        "result = n*(n+1)/2\n",
        "\n",
        "print(\"The sum of all numbers from \", start, \"to \", end, \"is, \",result)"
      ],
      "execution_count": 2,
      "outputs": [
        {
          "output_type": "stream",
          "text": [
            "The sum of all numbers from  0 to  2021 is,  2043231.0\n"
          ],
          "name": "stdout"
        }
      ]
    },
    {
      "cell_type": "markdown",
      "metadata": {
        "id": "WAjxlMCL0mP0"
      },
      "source": [
        "**Write a program that does your math homework**\n",
        "\n",
        "Utlize this formula: \n",
        "$$ 2*(x+3)-3 $$"
      ]
    },
    {
      "cell_type": "code",
      "metadata": {
        "colab": {
          "base_uri": "https://localhost:8080/"
        },
        "id": "1bLV8nw4yY6r",
        "outputId": "c5065138-9d74-4ba7-ed4a-0cff1269b3c0"
      },
      "source": [
        "x = int(input(\"What is x? > \"))\n",
        "\n",
        "y= 2*(x+3)-3\n",
        "\n",
        "print (f\"Your answer would be {y}\")\n"
      ],
      "execution_count": 2,
      "outputs": [
        {
          "output_type": "stream",
          "text": [
            "What is x? > 9\n",
            "Your answer would be 21\n"
          ],
          "name": "stdout"
        }
      ]
    },
    {
      "cell_type": "markdown",
      "metadata": {
        "id": "fdbtt5923OtV"
      },
      "source": [
        "**Write a program that determines your school Email address**\n",
        "\n"
      ]
    },
    {
      "cell_type": "code",
      "metadata": {
        "colab": {
          "base_uri": "https://localhost:8080/"
        },
        "id": "pkLzePxm0wIH",
        "outputId": "1c319136-3fce-4c1b-bc82-3f33b5e1e23a"
      },
      "source": [
        "\n",
        "first = input (\"What is your frist name? > \")\n",
        "last = input (\"What is your last name? > \")\n",
        "grade = int(input (\"What is your grade? (10,11,12) > \"))\n",
        "email = \"@uwcisak.jp\"\n",
        "year = 2034-grade\n",
        "\n",
        "print(f\"Your email would be {year}.{first}.{last}{email}\")"
      ],
      "execution_count": 1,
      "outputs": [
        {
          "output_type": "stream",
          "text": [
            "What is your frist name? > reiji\n",
            "What is your last name? > nishikawa\n",
            "What is your grade? (10,11,12) > 11\n",
            "Your email would be 2023.reiji.nishikawa@uwcisak.jp\n"
          ],
          "name": "stdout"
        }
      ]
    }
  ]
}